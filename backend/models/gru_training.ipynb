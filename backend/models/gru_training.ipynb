{
 "cells": [
  {
   "cell_type": "code",
   "execution_count": null,
   "id": "8cd8f31c",
   "metadata": {},
   "outputs": [
    {
     "ename": "ModuleNotFoundError",
     "evalue": "No module named 'models'",
     "output_type": "error",
     "traceback": [
      "\u001b[31m---------------------------------------------------------------------------\u001b[39m",
      "\u001b[31mModuleNotFoundError\u001b[39m                       Traceback (most recent call last)",
      "\u001b[36mCell\u001b[39m\u001b[36m \u001b[39m\u001b[32mIn[1]\u001b[39m\u001b[32m, line 12\u001b[39m\n\u001b[32m      9\u001b[39m \u001b[38;5;28;01mfrom\u001b[39;00m\u001b[38;5;250m \u001b[39m\u001b[34;01msklearn\u001b[39;00m\u001b[34;01m.\u001b[39;00m\u001b[34;01mmodel_selection\u001b[39;00m\u001b[38;5;250m \u001b[39m\u001b[38;5;28;01mimport\u001b[39;00m train_test_split\n\u001b[32m     10\u001b[39m \u001b[38;5;28;01mfrom\u001b[39;00m\u001b[38;5;250m \u001b[39m\u001b[34;01msklearn\u001b[39;00m\u001b[34;01m.\u001b[39;00m\u001b[34;01mpreprocessing\u001b[39;00m\u001b[38;5;250m \u001b[39m\u001b[38;5;28;01mimport\u001b[39;00m StandardScaler\n\u001b[32m---> \u001b[39m\u001b[32m12\u001b[39m \u001b[38;5;28;01mfrom\u001b[39;00m\u001b[38;5;250m \u001b[39m\u001b[34;01mmodels\u001b[39;00m\u001b[34;01m.\u001b[39;00m\u001b[34;01mPlayerPerformancePredictors\u001b[39;00m\u001b[38;5;250m \u001b[39m\u001b[38;5;28;01mimport\u001b[39;00m GruPlayerPredictor \u001b[38;5;28;01mas\u001b[39;00m GRU\n\u001b[32m     13\u001b[39m \u001b[38;5;28;01mfrom\u001b[39;00m\u001b[38;5;250m \u001b[39m\u001b[34;01mmodels\u001b[39;00m\u001b[34;01m.\u001b[39;00m\u001b[34;01mGruTraining\u001b[39;00m\u001b[38;5;250m \u001b[39m\u001b[38;5;28;01mimport\u001b[39;00m get_games_window, train_gru\n",
      "\u001b[31mModuleNotFoundError\u001b[39m: No module named 'models'"
     ]
    }
   ],
   "source": [
    "import os.path as osp\n",
    "import json\n",
    "import csv\n",
    "\n",
    "import torch\n",
    "from torch.optim import Adam\n",
    "from torch.utils.data import TensorDataset, DataLoader\n",
    "from torcheval.metrics import MeanSquaredError as MSE\n",
    "from sklearn.model_selection import train_test_split\n",
    "from sklearn.preprocessing import StandardScaler\n",
    "\n",
    "from PlayerPerformancePredictors import GruPlayerPredictor as GRU\n",
    "from GruTraining import get_games_window, train_gru"
   ]
  },
  {
   "cell_type": "code",
   "execution_count": 2,
   "id": "11d24bde",
   "metadata": {},
   "outputs": [
    {
     "name": "stdout",
     "output_type": "stream",
     "text": [
      "Using device cuda\n"
     ]
    }
   ],
   "source": [
    "device = torch.device(\"cuda\" if torch.cuda.is_available() else \"cpu\")\n",
    "print(\"Using device\", device)"
   ]
  },
  {
   "cell_type": "code",
   "execution_count": 7,
   "id": "19b4b66f",
   "metadata": {},
   "outputs": [],
   "source": [
    "# Load and clean data\n",
    "player_stats_per_game_path = osp.join('backend','json', 'nba_data.json')\n",
    "with open(player_stats_per_game_path, 'r') as fd:\n",
    "    player_stats_per_game = json.load(fd)\n",
    "\n",
    "X, y = get_games_window(player_stats_per_game, time_minimum=12)\n",
    "\n"
   ]
  },
  {
   "cell_type": "code",
   "execution_count": 9,
   "id": "44310de3",
   "metadata": {},
   "outputs": [
    {
     "name": "stdout",
     "output_type": "stream",
     "text": [
      "Input Shape: torch.Size([42388, 3, 20]) Target Shape: torch.Size([42388, 20])\n",
      "Training Set Size: 33910 Testing Set Size: 8478 Total: 42388\n",
      "Ex input: tensor([[33.0000,  8.0000, 10.0000,  0.8000,  0.0000,  1.0000,  0.0000,  3.0000,\n",
      "          4.0000,  0.7500,  5.0000,  8.0000, 13.0000,  2.0000,  1.0000,  1.0000,\n",
      "          0.0000,  1.0000, 19.0000,  7.0000],\n",
      "        [27.0000,  5.0000,  7.0000,  0.7140,  0.0000,  0.0000,  0.0000,  1.0000,\n",
      "          4.0000,  0.2500,  3.0000,  5.0000,  8.0000,  1.0000,  0.0000,  2.0000,\n",
      "          1.0000,  2.0000, 11.0000, -5.0000],\n",
      "        [31.0000,  7.0000,  9.0000,  0.7780,  0.0000,  0.0000,  0.0000,  2.0000,\n",
      "          3.0000,  0.6670,  7.0000,  6.0000, 13.0000,  0.0000,  0.0000,  2.0000,\n",
      "          1.0000,  1.0000, 16.0000, -4.0000]])\n",
      "Ex target: tensor([30.0000,  8.0000, 10.0000,  0.8000,  0.0000,  0.0000,  0.0000,  1.0000,\n",
      "         4.0000,  0.2500,  9.0000,  6.0000, 15.0000,  1.0000,  0.0000,  2.0000,\n",
      "         1.0000,  0.0000, 17.0000, -2.0000])\n"
     ]
    }
   ],
   "source": [
    "X_train, X_test, y_train, y_test = train_test_split(X, y, test_size=.2, shuffle=True)\n",
    "\n",
    "print(\"Input Shape:\", X.shape, \"Target Shape:\", y.shape)\n",
    "print(\"Training Set Size:\", len(X_train), \n",
    "      \"Testing Set Size:\", len(X_test), \n",
    "      \"Total:\", len(X)\n",
    ")\n",
    "print(\"Ex input:\", X_train[0])\n",
    "print(\"Ex target:\", y_train[0])"
   ]
  },
  {
   "cell_type": "code",
   "execution_count": 10,
   "id": "eda622ec",
   "metadata": {},
   "outputs": [],
   "source": [
    "scaler = StandardScaler()\n",
    "X_train = scaler.fit_transform(X_train.view(-1, 20))\n",
    "X_train = torch.tensor(X_train, dtype=torch.float, device=device).view(-1, 3, 20)\n",
    "y_train = scaler.transform(y_train)\n",
    "y_train = torch.column_stack([i for i in torch.tensor(y_train, dtype=torch.float, device=device)])\n",
    "\n",
    "X_test = scaler.transform(X_test.view(-1, 20))\n",
    "X_test = torch.tensor(X_test, dtype=torch.float, device=device).view(-1, 3, 20)\n",
    "y_test = scaler.transform(y_test)\n",
    "y_test = torch.column_stack([i for i in torch.tensor(y_test, dtype=torch.float, device=device)])"
   ]
  },
  {
   "cell_type": "code",
   "execution_count": 24,
   "id": "bc5dbeff",
   "metadata": {},
   "outputs": [],
   "source": [
    "# Define parameters\n",
    "# Training parameters\n",
    "num_epochs = 30\n",
    "learning_rate = .001\n",
    "batch_size = 8\n",
    "\n",
    "# Model parameters\n",
    "input_size = 20\n",
    "gru_hidden_size = 32\n",
    "gru_num_layers = 4\n",
    "linear_output_size = 1"
   ]
  },
  {
   "cell_type": "code",
   "execution_count": null,
   "id": "c12c0f22",
   "metadata": {},
   "outputs": [
    {
     "name": "stdout",
     "output_type": "stream",
     "text": [
      "Training GRU for feature MIN\n"
     ]
    },
    {
     "ename": "KeyboardInterrupt",
     "evalue": "",
     "output_type": "error",
     "traceback": [
      "\u001b[31m---------------------------------------------------------------------------\u001b[39m",
      "\u001b[31mKeyboardInterrupt\u001b[39m                         Traceback (most recent call last)",
      "\u001b[36mCell\u001b[39m\u001b[36m \u001b[39m\u001b[32mIn[25]\u001b[39m\u001b[32m, line 32\u001b[39m\n\u001b[32m     29\u001b[39m opt = Adam(model.parameters(), lr=learning_rate)\n\u001b[32m     31\u001b[39m \u001b[38;5;28mprint\u001b[39m(\u001b[33m\"\u001b[39m\u001b[33mTraining GRU for feature\u001b[39m\u001b[33m\"\u001b[39m, feature)\n\u001b[32m---> \u001b[39m\u001b[32m32\u001b[39m model_dict, model_metrics = \u001b[43mtrain_gru\u001b[49m\u001b[43m(\u001b[49m\n\u001b[32m     33\u001b[39m \u001b[43m    \u001b[49m\u001b[43mmodel\u001b[49m\u001b[43m,\u001b[49m\u001b[43m \u001b[49m\n\u001b[32m     34\u001b[39m \u001b[43m    \u001b[49m\u001b[43mopt\u001b[49m\u001b[43m,\u001b[49m\u001b[43m \u001b[49m\n\u001b[32m     35\u001b[39m \u001b[43m    \u001b[49m\u001b[43mtrain_loader\u001b[49m\u001b[43m,\u001b[49m\n\u001b[32m     36\u001b[39m \u001b[43m    \u001b[49m\u001b[43mtest_loader\u001b[49m\u001b[43m,\u001b[49m\n\u001b[32m     37\u001b[39m \u001b[43m    \u001b[49m\u001b[43mnum_epochs\u001b[49m\u001b[43m,\u001b[49m\n\u001b[32m     38\u001b[39m \u001b[43m    \u001b[49m\u001b[43mdevice\u001b[49m\n\u001b[32m     39\u001b[39m \u001b[43m\u001b[49m\u001b[43m)\u001b[49m\n\u001b[32m     41\u001b[39m torch.save(model_dict, osp.join(model_folder, \u001b[33mf\u001b[39m\u001b[33m\"\u001b[39m\u001b[38;5;132;01m{\u001b[39;00mfeature\u001b[38;5;132;01m}\u001b[39;00m\u001b[33m_gru.pt\u001b[39m\u001b[33m\"\u001b[39m))\n\u001b[32m     42\u001b[39m \u001b[38;5;28;01mwith\u001b[39;00m \u001b[38;5;28mopen\u001b[39m(osp.join(metrics_folder, \u001b[33mf\u001b[39m\u001b[33m\"\u001b[39m\u001b[38;5;132;01m{\u001b[39;00mfeature\u001b[38;5;132;01m}\u001b[39;00m\u001b[33m_gru_metrics.csv\u001b[39m\u001b[33m\"\u001b[39m), \u001b[33m\"\u001b[39m\u001b[33mw\u001b[39m\u001b[33m\"\u001b[39m, newline=\u001b[33m\"\u001b[39m\u001b[33m\"\u001b[39m) \u001b[38;5;28;01mas\u001b[39;00m fd:\n",
      "\u001b[36mFile \u001b[39m\u001b[32mc:\\Users\\keira\\projects\\GameMaker\\GruTraining.py:85\u001b[39m, in \u001b[36mtrain_gru\u001b[39m\u001b[34m(model, opt, train_loader, test_loader, num_epochs, device)\u001b[39m\n\u001b[32m     83\u001b[39m metric.update(prediction, y)\n\u001b[32m     84\u001b[39m loss = model.loss(prediction, y)\n\u001b[32m---> \u001b[39m\u001b[32m85\u001b[39m \u001b[43mloss\u001b[49m\u001b[43m.\u001b[49m\u001b[43mbackward\u001b[49m\u001b[43m(\u001b[49m\u001b[43m)\u001b[49m\n\u001b[32m     86\u001b[39m opt.step()\n\u001b[32m     87\u001b[39m opt.zero_grad()\n",
      "\u001b[36mFile \u001b[39m\u001b[32mc:\\Users\\keira\\anaconda3\\envs\\GameMaker\\Lib\\site-packages\\torch\\_tensor.py:648\u001b[39m, in \u001b[36mTensor.backward\u001b[39m\u001b[34m(self, gradient, retain_graph, create_graph, inputs)\u001b[39m\n\u001b[32m    638\u001b[39m \u001b[38;5;28;01mif\u001b[39;00m has_torch_function_unary(\u001b[38;5;28mself\u001b[39m):\n\u001b[32m    639\u001b[39m     \u001b[38;5;28;01mreturn\u001b[39;00m handle_torch_function(\n\u001b[32m    640\u001b[39m         Tensor.backward,\n\u001b[32m    641\u001b[39m         (\u001b[38;5;28mself\u001b[39m,),\n\u001b[32m   (...)\u001b[39m\u001b[32m    646\u001b[39m         inputs=inputs,\n\u001b[32m    647\u001b[39m     )\n\u001b[32m--> \u001b[39m\u001b[32m648\u001b[39m \u001b[43mtorch\u001b[49m\u001b[43m.\u001b[49m\u001b[43mautograd\u001b[49m\u001b[43m.\u001b[49m\u001b[43mbackward\u001b[49m\u001b[43m(\u001b[49m\n\u001b[32m    649\u001b[39m \u001b[43m    \u001b[49m\u001b[38;5;28;43mself\u001b[39;49m\u001b[43m,\u001b[49m\u001b[43m \u001b[49m\u001b[43mgradient\u001b[49m\u001b[43m,\u001b[49m\u001b[43m \u001b[49m\u001b[43mretain_graph\u001b[49m\u001b[43m,\u001b[49m\u001b[43m \u001b[49m\u001b[43mcreate_graph\u001b[49m\u001b[43m,\u001b[49m\u001b[43m \u001b[49m\u001b[43minputs\u001b[49m\u001b[43m=\u001b[49m\u001b[43minputs\u001b[49m\n\u001b[32m    650\u001b[39m \u001b[43m\u001b[49m\u001b[43m)\u001b[49m\n",
      "\u001b[36mFile \u001b[39m\u001b[32mc:\\Users\\keira\\anaconda3\\envs\\GameMaker\\Lib\\site-packages\\torch\\autograd\\__init__.py:353\u001b[39m, in \u001b[36mbackward\u001b[39m\u001b[34m(tensors, grad_tensors, retain_graph, create_graph, grad_variables, inputs)\u001b[39m\n\u001b[32m    348\u001b[39m     retain_graph = create_graph\n\u001b[32m    350\u001b[39m \u001b[38;5;66;03m# The reason we repeat the same comment below is that\u001b[39;00m\n\u001b[32m    351\u001b[39m \u001b[38;5;66;03m# some Python versions print out the first line of a multi-line function\u001b[39;00m\n\u001b[32m    352\u001b[39m \u001b[38;5;66;03m# calls in the traceback and some print out the last line\u001b[39;00m\n\u001b[32m--> \u001b[39m\u001b[32m353\u001b[39m \u001b[43m_engine_run_backward\u001b[49m\u001b[43m(\u001b[49m\n\u001b[32m    354\u001b[39m \u001b[43m    \u001b[49m\u001b[43mtensors\u001b[49m\u001b[43m,\u001b[49m\n\u001b[32m    355\u001b[39m \u001b[43m    \u001b[49m\u001b[43mgrad_tensors_\u001b[49m\u001b[43m,\u001b[49m\n\u001b[32m    356\u001b[39m \u001b[43m    \u001b[49m\u001b[43mretain_graph\u001b[49m\u001b[43m,\u001b[49m\n\u001b[32m    357\u001b[39m \u001b[43m    \u001b[49m\u001b[43mcreate_graph\u001b[49m\u001b[43m,\u001b[49m\n\u001b[32m    358\u001b[39m \u001b[43m    \u001b[49m\u001b[43minputs\u001b[49m\u001b[43m,\u001b[49m\n\u001b[32m    359\u001b[39m \u001b[43m    \u001b[49m\u001b[43mallow_unreachable\u001b[49m\u001b[43m=\u001b[49m\u001b[38;5;28;43;01mTrue\u001b[39;49;00m\u001b[43m,\u001b[49m\n\u001b[32m    360\u001b[39m \u001b[43m    \u001b[49m\u001b[43maccumulate_grad\u001b[49m\u001b[43m=\u001b[49m\u001b[38;5;28;43;01mTrue\u001b[39;49;00m\u001b[43m,\u001b[49m\n\u001b[32m    361\u001b[39m \u001b[43m\u001b[49m\u001b[43m)\u001b[49m\n",
      "\u001b[36mFile \u001b[39m\u001b[32mc:\\Users\\keira\\anaconda3\\envs\\GameMaker\\Lib\\site-packages\\torch\\autograd\\graph.py:824\u001b[39m, in \u001b[36m_engine_run_backward\u001b[39m\u001b[34m(t_outputs, *args, **kwargs)\u001b[39m\n\u001b[32m    822\u001b[39m     unregister_hooks = _register_logging_hooks_on_whole_graph(t_outputs)\n\u001b[32m    823\u001b[39m \u001b[38;5;28;01mtry\u001b[39;00m:\n\u001b[32m--> \u001b[39m\u001b[32m824\u001b[39m     \u001b[38;5;28;01mreturn\u001b[39;00m \u001b[43mVariable\u001b[49m\u001b[43m.\u001b[49m\u001b[43m_execution_engine\u001b[49m\u001b[43m.\u001b[49m\u001b[43mrun_backward\u001b[49m\u001b[43m(\u001b[49m\u001b[43m  \u001b[49m\u001b[38;5;66;43;03m# Calls into the C++ engine to run the backward pass\u001b[39;49;00m\n\u001b[32m    825\u001b[39m \u001b[43m        \u001b[49m\u001b[43mt_outputs\u001b[49m\u001b[43m,\u001b[49m\u001b[43m \u001b[49m\u001b[43m*\u001b[49m\u001b[43margs\u001b[49m\u001b[43m,\u001b[49m\u001b[43m \u001b[49m\u001b[43m*\u001b[49m\u001b[43m*\u001b[49m\u001b[43mkwargs\u001b[49m\n\u001b[32m    826\u001b[39m \u001b[43m    \u001b[49m\u001b[43m)\u001b[49m  \u001b[38;5;66;03m# Calls into the C++ engine to run the backward pass\u001b[39;00m\n\u001b[32m    827\u001b[39m \u001b[38;5;28;01mfinally\u001b[39;00m:\n\u001b[32m    828\u001b[39m     \u001b[38;5;28;01mif\u001b[39;00m attach_logging_hooks:\n",
      "\u001b[31mKeyboardInterrupt\u001b[39m: "
     ]
    }
   ],
   "source": [
    "model_folder = \"models/models\"\n",
    "metrics_folder = \"models/metrics\"\n",
    "target_features = [\n",
    "    'MIN', 'FGM', 'FGA', 'FG_PCT', 'FG3M', 'FG3A', 'FG3_PCT', 'FTM',\n",
    "    'FTA', 'FT_PCT', 'OREB', 'DREB', 'REB', 'AST', 'STL', 'BLK', 'TO',\n",
    "    'PF', 'PTS', 'PLUS_MINUS'\n",
    "]\n",
    "calculated_features = ['FG_PCT', 'FG3_PCT', 'FT_PCT']\n",
    "\n",
    "torch.manual_seed(32)\n",
    "for feature_index, feature in enumerate(target_features):\n",
    "    if feature in calculated_features:\n",
    "        continue\n",
    "\n",
    "    train_dataset = TensorDataset(X_train, y_train[feature_index].unsqueeze(dim=1))\n",
    "    test_dataset = TensorDataset(X_test, y_test[feature_index].unsqueeze(dim=1))\n",
    "\n",
    "    train_loader = DataLoader(train_dataset, batch_size=batch_size, shuffle=True)\n",
    "    test_loader = DataLoader(test_dataset, batch_size=batch_size)\n",
    "    \n",
    "    model = GRU(\n",
    "        input_size,\n",
    "        gru_hidden_size,\n",
    "        linear_output_size,\n",
    "        gru_num_layers=gru_num_layers\n",
    "    )\n",
    "\n",
    "    model.to(device)\n",
    "    opt = Adam(model.parameters(), lr=learning_rate)\n",
    "\n",
    "    print(\"Training GRU for feature\", feature)\n",
    "    model_dict, model_metrics = train_gru(\n",
    "        model, \n",
    "        opt, \n",
    "        train_loader,\n",
    "        test_loader,\n",
    "        num_epochs,\n",
    "        device\n",
    "    )\n",
    "    \n",
    "    torch.save(model_dict, osp.join(model_folder, f\"{feature}_gru.pt\"))\n",
    "    with open(osp.join(metrics_folder, f\"{feature}_gru_metrics.csv\"), \"w\", newline=\"\") as fd:\n",
    "        writer = csv.writer(fd)\n",
    "        writer.writerows(model_metrics)\n",
    "\n",
    "    print(f\"Successfully trained and stored {feature} GRU\")\n",
    "    \n"
   ]
  },
  {
   "cell_type": "code",
   "execution_count": 34,
   "id": "2bbf0c7f",
   "metadata": {},
   "outputs": [
    {
     "data": {
      "text/plain": [
       "['models/models16/std_scaler_gru.gz']"
      ]
     },
     "execution_count": 34,
     "metadata": {},
     "output_type": "execute_result"
    }
   ],
   "source": [
    "from joblib import dump\n",
    "dump(scaler, 'models/models16/std_scaler_gru.gz')"
   ]
  },
  {
   "cell_type": "code",
   "execution_count": null,
   "id": "5d92dce4",
   "metadata": {},
   "outputs": [],
   "source": []
  }
 ],
 "metadata": {
  "kernelspec": {
   "display_name": "GameMaker",
   "language": "python",
   "name": "python3"
  },
  "language_info": {
   "codemirror_mode": {
    "name": "ipython",
    "version": 3
   },
   "file_extension": ".py",
   "mimetype": "text/x-python",
   "name": "python",
   "nbconvert_exporter": "python",
   "pygments_lexer": "ipython3",
   "version": "3.13.5"
  }
 },
 "nbformat": 4,
 "nbformat_minor": 5
}
