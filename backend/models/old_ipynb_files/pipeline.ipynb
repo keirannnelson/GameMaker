{
 "cells": [
  {
   "metadata": {},
   "cell_type": "code",
   "source": [
    "import pandas as pd\n",
    "import numpy as np\n",
    "import nbimporter\n",
    "from model import make_preds, get_X_and_y\n",
    "from get_game_stats_data import get_game_stats_data_df\n",
    "\n",
    "def pred_old_outcomes_pipeline(season_year, target_team_ids=None, target_game_date=None, training_and_testing=False):\n",
    "    df = get_game_stats_data_df(\n",
    "        season_year,\n",
    "        target_team_ids=target_team_ids,\n",
    "        target_game_date=target_game_date,\n",
    "        training_and_testing=training_and_testing,\n",
    "    )\n",
    "\n",
    "    X, y, home_ids = get_X_and_y(df)\n",
    "\n",
    "    final_preds, final_acc, final_recall, final_precision, final_f1, final_cm = make_preds(X, y, verbose=False)\n",
    "    if final_preds is None:\n",
    "        return (None,) * 6\n",
    "\n",
    "    outcomes_preds = {home_id: (true_label, pred) for home_id, true_label, pred in zip(home_ids, y, final_preds)}\n",
    "\n",
    "    return outcomes_preds, final_acc, final_recall, final_precision, final_f1, final_cm"
   ],
   "id": "44368245562bda97",
   "outputs": [],
   "execution_count": null
  },
  {
   "metadata": {},
   "cell_type": "code",
   "source": [
    "season_year = \"2023-24\"\n",
    "outcomes_preds, final_acc, final_recall, final_precision, final_f1, final_cm = pred_old_outcomes_pipeline(\n",
    "    season_year, [1610612742, 1610612760, 1610612753, 1610612749, 1610612765, 1610612759, 1610612764, 1610612738, 1610612751, 1610612755, 1610612740, 1610612747, \n",
    "                  1610612750, 1610612756], \"2024-04-14\", training_and_testing=True\n",
    ")\n",
    "print(\"-\" * 100)\n",
    "print(outcomes_preds)\n",
    "print(f\"Accuracy: {final_acc:.4f}\")\n",
    "print(f\"Recall: {final_recall:.4f}\")\n",
    "print(f\"Precision: {final_precision:.4f}\")\n",
    "print(f\"F1 Score: {final_f1:.4f}\")\n",
    "print(\"Confusion matrix:\")\n",
    "print(final_cm)\n",
    "print(\"-\" * 100)\n"
   ],
   "id": "245bcdd796364c6f",
   "outputs": [],
   "execution_count": null
  },
  {
   "metadata": {},
   "cell_type": "code",
   "source": [
    "import matplotlib.pyplot as plt\n",
    "\n",
    "def trend_line_graph(plot_data, plot_type, season_year):\n",
    "    x = range(len(plot_data))\n",
    "    y = plot_data\n",
    "    plt.scatter(x, y, label=\"Data Points\")\n",
    "    m, b = np.polyfit(x, y, 1)\n",
    "    plt.plot(x, m*x + b, color=\"red\", label=\"Trend Line\")\n",
    "    plt.title(f'{plot_type} Trend Over Time ({season_year} Season)')\n",
    "    plt.xlabel('Game Days Since First Game')\n",
    "    plt.ylabel(plot_type)\n",
    "    plt.legend()\n",
    "    plt.grid(True)\n",
    "    plt.savefig(f'ml_imgs/{season_year}_{plot_type.lower()}_trend_line.png')\n",
    "    plt.show()\n",
    "\n",
    "def test_model_preds_over_time(season_year):\n",
    "    df = pd.read_sql_table(f\"game_stats_{season_year}\", \"sqlite:///../database/nba_game_stats.db\")\n",
    "    df = df[df['SEASON_ID'] == f'2{season_year[:season_year.index(\"-\")]}']\n",
    "    df.sort_values('GAME_DATE', inplace=True)\n",
    "    game_dates = df['GAME_DATE'].unique()\n",
    "    \n",
    "    accs = []\n",
    "    recalls = []\n",
    "    precision = []\n",
    "    f1 = []\n",
    "    for game_date in game_dates:\n",
    "        if len(df[df['GAME_DATE'] == game_date]) < 1:\n",
    "            print(f\"Game date {game_date} is empty\")\n",
    "        \n",
    "        outcomes_preds, final_acc, final_recall, final_precision, final_f1, final_cm = pred_old_outcomes_pipeline(\n",
    "            season_year, target_game_date=game_date, training_and_testing=True\n",
    "        )\n",
    "        \n",
    "        if outcomes_preds is None:\n",
    "            print(f\"Had no proper data from {game_date}\")\n",
    "        else:\n",
    "            accs.append(final_acc)\n",
    "            recalls.append(final_recall)\n",
    "            precision.append(final_precision)\n",
    "            f1.append(final_f1)\n",
    "            print(game_date)\n",
    "            \n",
    "    trend_line_graph(accs, \"Accuracy\", season_year)\n",
    "    trend_line_graph(recalls, \"Recall\", season_year)\n",
    "    trend_line_graph(precision, \"Precision\", season_year)\n",
    "    trend_line_graph(f1, \"F1\", season_year)"
   ],
   "id": "b9b6e3da55d261f8",
   "outputs": [],
   "execution_count": null
  },
  {
   "metadata": {},
   "cell_type": "code",
   "source": [
    "season_year = \"2024-25\"\n",
    "test_model_preds_over_time(season_year)"
   ],
   "id": "400707dafb124a36",
   "outputs": [],
   "execution_count": null
  }
 ],
 "metadata": {
  "kernelspec": {
   "display_name": "Python 3",
   "language": "python",
   "name": "python3"
  },
  "language_info": {
   "codemirror_mode": {
    "name": "ipython",
    "version": 2
   },
   "file_extension": ".py",
   "mimetype": "text/x-python",
   "name": "python",
   "nbconvert_exporter": "python",
   "pygments_lexer": "ipython2",
   "version": "2.7.6"
  }
 },
 "nbformat": 4,
 "nbformat_minor": 5
}
